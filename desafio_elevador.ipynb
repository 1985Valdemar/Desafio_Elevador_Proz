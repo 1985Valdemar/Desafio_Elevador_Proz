{
 "cells": [
  {
   "cell_type": "markdown",
   "metadata": {},
   "source": [
    "Precisamos imprimir um número para cada andar de um hotel de 20 andares. Porém, o dono do hotel é supersticioso e optou por não ter um 13ro andar.\n",
    "\n",
    "Escreva um código que imprima todos os números exceto o número 13.\n",
    "Escreva mais um código que resolva o mesmo problema, mas dessa vez usando o laço de repetição 'while'.\n",
    "\n",
    "Como desafio, imprima eles em ordem decrescente (20, 19, 18...)\n",
    "\n",
    "Trabalhe esse código em seu IDE, suba ele para sua conta no GitHub e compartilhe o link desse projeto no campo ao lado para que outros desenvolvedores possam analisá-lo."
   ]
  },
  {
   "cell_type": "code",
   "execution_count": 24,
   "metadata": {},
   "outputs": [
    {
     "name": "stdout",
     "output_type": "stream",
     "text": [
      "Número Andar: 20\n",
      "Número Andar: 19\n",
      "Número Andar: 18\n",
      "Número Andar: 17\n",
      "Número Andar: 16\n",
      "Número Andar: 15\n",
      "Número Andar: 14\n",
      "Número Andar: 12\n",
      "Número Andar: 11\n",
      "Número Andar: 10\n",
      "Número Andar: 9\n",
      "Número Andar: 8\n",
      "Número Andar: 7\n",
      "Número Andar: 6\n",
      "Número Andar: 5\n",
      "Número Andar: 4\n",
      "Número Andar: 3\n",
      "Número Andar: 2\n",
      "Número Andar: 1\n",
      "Número Andar: 0\n"
     ]
    }
   ],
   "source": [
    "i = 20\n",
    "\n",
    "while i >= 0:\n",
    "    if i == 13:\n",
    "        i -= 1\n",
    "        continue\n",
    "    andar_atual = str(i)\n",
    "    print(\"Número Andar: \" + andar_atual)\n",
    "    i -= 1\n"
   ]
  },
  {
   "cell_type": "code",
   "execution_count": 28,
   "metadata": {},
   "outputs": [
    {
     "name": "stdout",
     "output_type": "stream",
     "text": [
      "Número Do Seu Andar: 20\n",
      "Número Do Seu Andar: 19\n",
      "Número Do Seu Andar: 18\n",
      "Número Do Seu Andar: 17\n",
      "Número Do Seu Andar: 16\n",
      "Número Do Seu Andar: 15\n",
      "Número Do Seu Andar: 14\n",
      "Número Do Seu Andar: 12\n",
      "Número Do Seu Andar: 11\n",
      "Número Do Seu Andar: 10\n",
      "Número Do Seu Andar: 9\n",
      "Número Do Seu Andar: 8\n",
      "Número Do Seu Andar: 7\n",
      "Número Do Seu Andar: 6\n",
      "Número Do Seu Andar: 5\n",
      "Número Do Seu Andar: 4\n",
      "Número Do Seu Andar: 3\n",
      "Número Do Seu Andar: 2\n",
      "Número Do Seu Andar: 1\n",
      "Número Do Seu Andar: 0\n"
     ]
    }
   ],
   "source": [
    "for i in range(20, -1, -1):\n",
    "    if i == 13:\n",
    "        i -= 1\n",
    "        continue\n",
    "    andar_atual = str(i)\n",
    "    print(\"Número Do Seu Andar:\", andar_atual)"
   ]
  }
 ],
 "metadata": {
  "kernelspec": {
   "display_name": "Python 3",
   "language": "python",
   "name": "python3"
  },
  "language_info": {
   "codemirror_mode": {
    "name": "ipython",
    "version": 3
   },
   "file_extension": ".py",
   "mimetype": "text/x-python",
   "name": "python",
   "nbconvert_exporter": "python",
   "pygments_lexer": "ipython3",
   "version": "3.12.2"
  }
 },
 "nbformat": 4,
 "nbformat_minor": 2
}
